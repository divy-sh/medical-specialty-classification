{
  "cells": [
    {
      "cell_type": "code",
      "execution_count": null,
      "metadata": {
        "colab": {
          "base_uri": "https://localhost:8080/"
        },
        "id": "31kgUE4KFLfe",
        "outputId": "0e5ff30e-ea9d-47ad-97dc-5d6539895484",
        "collapsed": true
      },
      "outputs": [
        {
          "output_type": "stream",
          "name": "stdout",
          "text": [
            "Requirement already satisfied: kagglehub in /usr/local/lib/python3.11/dist-packages (0.3.11)\n",
            "Requirement already satisfied: packaging in /usr/local/lib/python3.11/dist-packages (from kagglehub) (24.2)\n",
            "Requirement already satisfied: pyyaml in /usr/local/lib/python3.11/dist-packages (from kagglehub) (6.0.2)\n",
            "Requirement already satisfied: requests in /usr/local/lib/python3.11/dist-packages (from kagglehub) (2.32.3)\n",
            "Requirement already satisfied: tqdm in /usr/local/lib/python3.11/dist-packages (from kagglehub) (4.67.1)\n",
            "Requirement already satisfied: charset-normalizer<4,>=2 in /usr/local/lib/python3.11/dist-packages (from requests->kagglehub) (3.4.1)\n",
            "Requirement already satisfied: idna<4,>=2.5 in /usr/local/lib/python3.11/dist-packages (from requests->kagglehub) (3.10)\n",
            "Requirement already satisfied: urllib3<3,>=1.21.1 in /usr/local/lib/python3.11/dist-packages (from requests->kagglehub) (2.3.0)\n",
            "Requirement already satisfied: certifi>=2017.4.17 in /usr/local/lib/python3.11/dist-packages (from requests->kagglehub) (2025.1.31)\n",
            "Requirement already satisfied: pandas in /usr/local/lib/python3.11/dist-packages (2.2.2)\n",
            "Requirement already satisfied: numpy>=1.23.2 in /usr/local/lib/python3.11/dist-packages (from pandas) (2.0.2)\n",
            "Requirement already satisfied: python-dateutil>=2.8.2 in /usr/local/lib/python3.11/dist-packages (from pandas) (2.8.2)\n",
            "Requirement already satisfied: pytz>=2020.1 in /usr/local/lib/python3.11/dist-packages (from pandas) (2025.2)\n",
            "Requirement already satisfied: tzdata>=2022.7 in /usr/local/lib/python3.11/dist-packages (from pandas) (2025.2)\n",
            "Requirement already satisfied: six>=1.5 in /usr/local/lib/python3.11/dist-packages (from python-dateutil>=2.8.2->pandas) (1.17.0)\n",
            "Requirement already satisfied: nltk in /usr/local/lib/python3.11/dist-packages (3.9.1)\n",
            "Requirement already satisfied: click in /usr/local/lib/python3.11/dist-packages (from nltk) (8.1.8)\n",
            "Requirement already satisfied: joblib in /usr/local/lib/python3.11/dist-packages (from nltk) (1.4.2)\n",
            "Requirement already satisfied: regex>=2021.8.3 in /usr/local/lib/python3.11/dist-packages (from nltk) (2024.11.6)\n",
            "Requirement already satisfied: tqdm in /usr/local/lib/python3.11/dist-packages (from nltk) (4.67.1)\n",
            "Collecting sklearn\n",
            "  Downloading sklearn-0.0.post12.tar.gz (2.6 kB)\n",
            "  \u001b[1;31merror\u001b[0m: \u001b[1msubprocess-exited-with-error\u001b[0m\n",
            "  \n",
            "  \u001b[31m×\u001b[0m \u001b[32mpython setup.py egg_info\u001b[0m did not run successfully.\n",
            "  \u001b[31m│\u001b[0m exit code: \u001b[1;36m1\u001b[0m\n",
            "  \u001b[31m╰─>\u001b[0m See above for output.\n",
            "  \n",
            "  \u001b[1;35mnote\u001b[0m: This error originates from a subprocess, and is likely not a problem with pip.\n",
            "  Preparing metadata (setup.py) ... \u001b[?25l\u001b[?25herror\n",
            "\u001b[1;31merror\u001b[0m: \u001b[1mmetadata-generation-failed\u001b[0m\n",
            "\n",
            "\u001b[31m×\u001b[0m Encountered error while generating package metadata.\n",
            "\u001b[31m╰─>\u001b[0m See above for output.\n",
            "\n",
            "\u001b[1;35mnote\u001b[0m: This is an issue with the package mentioned above, not pip.\n",
            "\u001b[1;36mhint\u001b[0m: See above for details.\n",
            "Requirement already satisfied: tensorflow in /usr/local/lib/python3.11/dist-packages (2.18.0)\n",
            "Requirement already satisfied: absl-py>=1.0.0 in /usr/local/lib/python3.11/dist-packages (from tensorflow) (1.4.0)\n",
            "Requirement already satisfied: astunparse>=1.6.0 in /usr/local/lib/python3.11/dist-packages (from tensorflow) (1.6.3)\n",
            "Requirement already satisfied: flatbuffers>=24.3.25 in /usr/local/lib/python3.11/dist-packages (from tensorflow) (25.2.10)\n",
            "Requirement already satisfied: gast!=0.5.0,!=0.5.1,!=0.5.2,>=0.2.1 in /usr/local/lib/python3.11/dist-packages (from tensorflow) (0.6.0)\n",
            "Requirement already satisfied: google-pasta>=0.1.1 in /usr/local/lib/python3.11/dist-packages (from tensorflow) (0.2.0)\n",
            "Requirement already satisfied: libclang>=13.0.0 in /usr/local/lib/python3.11/dist-packages (from tensorflow) (18.1.1)\n",
            "Requirement already satisfied: opt-einsum>=2.3.2 in /usr/local/lib/python3.11/dist-packages (from tensorflow) (3.4.0)\n",
            "Requirement already satisfied: packaging in /usr/local/lib/python3.11/dist-packages (from tensorflow) (24.2)\n",
            "Requirement already satisfied: protobuf!=4.21.0,!=4.21.1,!=4.21.2,!=4.21.3,!=4.21.4,!=4.21.5,<6.0.0dev,>=3.20.3 in /usr/local/lib/python3.11/dist-packages (from tensorflow) (5.29.4)\n",
            "Requirement already satisfied: requests<3,>=2.21.0 in /usr/local/lib/python3.11/dist-packages (from tensorflow) (2.32.3)\n",
            "Requirement already satisfied: setuptools in /usr/local/lib/python3.11/dist-packages (from tensorflow) (75.2.0)\n",
            "Requirement already satisfied: six>=1.12.0 in /usr/local/lib/python3.11/dist-packages (from tensorflow) (1.17.0)\n",
            "Requirement already satisfied: termcolor>=1.1.0 in /usr/local/lib/python3.11/dist-packages (from tensorflow) (3.0.1)\n",
            "Requirement already satisfied: typing-extensions>=3.6.6 in /usr/local/lib/python3.11/dist-packages (from tensorflow) (4.13.2)\n",
            "Requirement already satisfied: wrapt>=1.11.0 in /usr/local/lib/python3.11/dist-packages (from tensorflow) (1.17.2)\n",
            "Requirement already satisfied: grpcio<2.0,>=1.24.3 in /usr/local/lib/python3.11/dist-packages (from tensorflow) (1.71.0)\n",
            "Requirement already satisfied: tensorboard<2.19,>=2.18 in /usr/local/lib/python3.11/dist-packages (from tensorflow) (2.18.0)\n",
            "Requirement already satisfied: keras>=3.5.0 in /usr/local/lib/python3.11/dist-packages (from tensorflow) (3.8.0)\n",
            "Requirement already satisfied: numpy<2.1.0,>=1.26.0 in /usr/local/lib/python3.11/dist-packages (from tensorflow) (2.0.2)\n",
            "Requirement already satisfied: h5py>=3.11.0 in /usr/local/lib/python3.11/dist-packages (from tensorflow) (3.13.0)\n",
            "Requirement already satisfied: ml-dtypes<0.5.0,>=0.4.0 in /usr/local/lib/python3.11/dist-packages (from tensorflow) (0.4.1)\n",
            "Requirement already satisfied: tensorflow-io-gcs-filesystem>=0.23.1 in /usr/local/lib/python3.11/dist-packages (from tensorflow) (0.37.1)\n",
            "Requirement already satisfied: wheel<1.0,>=0.23.0 in /usr/local/lib/python3.11/dist-packages (from astunparse>=1.6.0->tensorflow) (0.45.1)\n",
            "Requirement already satisfied: rich in /usr/local/lib/python3.11/dist-packages (from keras>=3.5.0->tensorflow) (13.9.4)\n",
            "Requirement already satisfied: namex in /usr/local/lib/python3.11/dist-packages (from keras>=3.5.0->tensorflow) (0.0.8)\n",
            "Requirement already satisfied: optree in /usr/local/lib/python3.11/dist-packages (from keras>=3.5.0->tensorflow) (0.15.0)\n",
            "Requirement already satisfied: charset-normalizer<4,>=2 in /usr/local/lib/python3.11/dist-packages (from requests<3,>=2.21.0->tensorflow) (3.4.1)\n",
            "Requirement already satisfied: idna<4,>=2.5 in /usr/local/lib/python3.11/dist-packages (from requests<3,>=2.21.0->tensorflow) (3.10)\n",
            "Requirement already satisfied: urllib3<3,>=1.21.1 in /usr/local/lib/python3.11/dist-packages (from requests<3,>=2.21.0->tensorflow) (2.3.0)\n",
            "Requirement already satisfied: certifi>=2017.4.17 in /usr/local/lib/python3.11/dist-packages (from requests<3,>=2.21.0->tensorflow) (2025.1.31)\n",
            "Requirement already satisfied: markdown>=2.6.8 in /usr/local/lib/python3.11/dist-packages (from tensorboard<2.19,>=2.18->tensorflow) (3.8)\n",
            "Requirement already satisfied: tensorboard-data-server<0.8.0,>=0.7.0 in /usr/local/lib/python3.11/dist-packages (from tensorboard<2.19,>=2.18->tensorflow) (0.7.2)\n",
            "Requirement already satisfied: werkzeug>=1.0.1 in /usr/local/lib/python3.11/dist-packages (from tensorboard<2.19,>=2.18->tensorflow) (3.1.3)\n",
            "Requirement already satisfied: MarkupSafe>=2.1.1 in /usr/local/lib/python3.11/dist-packages (from werkzeug>=1.0.1->tensorboard<2.19,>=2.18->tensorflow) (3.0.2)\n",
            "Requirement already satisfied: markdown-it-py>=2.2.0 in /usr/local/lib/python3.11/dist-packages (from rich->keras>=3.5.0->tensorflow) (3.0.0)\n",
            "Requirement already satisfied: pygments<3.0.0,>=2.13.0 in /usr/local/lib/python3.11/dist-packages (from rich->keras>=3.5.0->tensorflow) (2.18.0)\n",
            "Requirement already satisfied: mdurl~=0.1 in /usr/local/lib/python3.11/dist-packages (from markdown-it-py>=2.2.0->rich->keras>=3.5.0->tensorflow) (0.1.2)\n",
            "Requirement already satisfied: matplotlib in /usr/local/lib/python3.11/dist-packages (3.10.0)\n",
            "Requirement already satisfied: contourpy>=1.0.1 in /usr/local/lib/python3.11/dist-packages (from matplotlib) (1.3.2)\n",
            "Requirement already satisfied: cycler>=0.10 in /usr/local/lib/python3.11/dist-packages (from matplotlib) (0.12.1)\n",
            "Requirement already satisfied: fonttools>=4.22.0 in /usr/local/lib/python3.11/dist-packages (from matplotlib) (4.57.0)\n",
            "Requirement already satisfied: kiwisolver>=1.3.1 in /usr/local/lib/python3.11/dist-packages (from matplotlib) (1.4.8)\n",
            "Requirement already satisfied: numpy>=1.23 in /usr/local/lib/python3.11/dist-packages (from matplotlib) (2.0.2)\n",
            "Requirement already satisfied: packaging>=20.0 in /usr/local/lib/python3.11/dist-packages (from matplotlib) (24.2)\n",
            "Requirement already satisfied: pillow>=8 in /usr/local/lib/python3.11/dist-packages (from matplotlib) (11.1.0)\n",
            "Requirement already satisfied: pyparsing>=2.3.1 in /usr/local/lib/python3.11/dist-packages (from matplotlib) (3.2.3)\n",
            "Requirement already satisfied: python-dateutil>=2.7 in /usr/local/lib/python3.11/dist-packages (from matplotlib) (2.8.2)\n",
            "Requirement already satisfied: six>=1.5 in /usr/local/lib/python3.11/dist-packages (from python-dateutil>=2.7->matplotlib) (1.17.0)\n",
            "Requirement already satisfied: tf-keras in /usr/local/lib/python3.11/dist-packages (2.18.0)\n",
            "Requirement already satisfied: tensorflow<2.19,>=2.18 in /usr/local/lib/python3.11/dist-packages (from tf-keras) (2.18.0)\n",
            "Requirement already satisfied: absl-py>=1.0.0 in /usr/local/lib/python3.11/dist-packages (from tensorflow<2.19,>=2.18->tf-keras) (1.4.0)\n",
            "Requirement already satisfied: astunparse>=1.6.0 in /usr/local/lib/python3.11/dist-packages (from tensorflow<2.19,>=2.18->tf-keras) (1.6.3)\n",
            "Requirement already satisfied: flatbuffers>=24.3.25 in /usr/local/lib/python3.11/dist-packages (from tensorflow<2.19,>=2.18->tf-keras) (25.2.10)\n",
            "Requirement already satisfied: gast!=0.5.0,!=0.5.1,!=0.5.2,>=0.2.1 in /usr/local/lib/python3.11/dist-packages (from tensorflow<2.19,>=2.18->tf-keras) (0.6.0)\n",
            "Requirement already satisfied: google-pasta>=0.1.1 in /usr/local/lib/python3.11/dist-packages (from tensorflow<2.19,>=2.18->tf-keras) (0.2.0)\n",
            "Requirement already satisfied: libclang>=13.0.0 in /usr/local/lib/python3.11/dist-packages (from tensorflow<2.19,>=2.18->tf-keras) (18.1.1)\n",
            "Requirement already satisfied: opt-einsum>=2.3.2 in /usr/local/lib/python3.11/dist-packages (from tensorflow<2.19,>=2.18->tf-keras) (3.4.0)\n",
            "Requirement already satisfied: packaging in /usr/local/lib/python3.11/dist-packages (from tensorflow<2.19,>=2.18->tf-keras) (24.2)\n",
            "Requirement already satisfied: protobuf!=4.21.0,!=4.21.1,!=4.21.2,!=4.21.3,!=4.21.4,!=4.21.5,<6.0.0dev,>=3.20.3 in /usr/local/lib/python3.11/dist-packages (from tensorflow<2.19,>=2.18->tf-keras) (5.29.4)\n",
            "Requirement already satisfied: requests<3,>=2.21.0 in /usr/local/lib/python3.11/dist-packages (from tensorflow<2.19,>=2.18->tf-keras) (2.32.3)\n",
            "Requirement already satisfied: setuptools in /usr/local/lib/python3.11/dist-packages (from tensorflow<2.19,>=2.18->tf-keras) (75.2.0)\n",
            "Requirement already satisfied: six>=1.12.0 in /usr/local/lib/python3.11/dist-packages (from tensorflow<2.19,>=2.18->tf-keras) (1.17.0)\n",
            "Requirement already satisfied: termcolor>=1.1.0 in /usr/local/lib/python3.11/dist-packages (from tensorflow<2.19,>=2.18->tf-keras) (3.0.1)\n",
            "Requirement already satisfied: typing-extensions>=3.6.6 in /usr/local/lib/python3.11/dist-packages (from tensorflow<2.19,>=2.18->tf-keras) (4.13.2)\n",
            "Requirement already satisfied: wrapt>=1.11.0 in /usr/local/lib/python3.11/dist-packages (from tensorflow<2.19,>=2.18->tf-keras) (1.17.2)\n",
            "Requirement already satisfied: grpcio<2.0,>=1.24.3 in /usr/local/lib/python3.11/dist-packages (from tensorflow<2.19,>=2.18->tf-keras) (1.71.0)\n",
            "Requirement already satisfied: tensorboard<2.19,>=2.18 in /usr/local/lib/python3.11/dist-packages (from tensorflow<2.19,>=2.18->tf-keras) (2.18.0)\n",
            "Requirement already satisfied: keras>=3.5.0 in /usr/local/lib/python3.11/dist-packages (from tensorflow<2.19,>=2.18->tf-keras) (3.8.0)\n",
            "Requirement already satisfied: numpy<2.1.0,>=1.26.0 in /usr/local/lib/python3.11/dist-packages (from tensorflow<2.19,>=2.18->tf-keras) (2.0.2)\n",
            "Requirement already satisfied: h5py>=3.11.0 in /usr/local/lib/python3.11/dist-packages (from tensorflow<2.19,>=2.18->tf-keras) (3.13.0)\n",
            "Requirement already satisfied: ml-dtypes<0.5.0,>=0.4.0 in /usr/local/lib/python3.11/dist-packages (from tensorflow<2.19,>=2.18->tf-keras) (0.4.1)\n",
            "Requirement already satisfied: tensorflow-io-gcs-filesystem>=0.23.1 in /usr/local/lib/python3.11/dist-packages (from tensorflow<2.19,>=2.18->tf-keras) (0.37.1)\n",
            "Requirement already satisfied: wheel<1.0,>=0.23.0 in /usr/local/lib/python3.11/dist-packages (from astunparse>=1.6.0->tensorflow<2.19,>=2.18->tf-keras) (0.45.1)\n",
            "Requirement already satisfied: rich in /usr/local/lib/python3.11/dist-packages (from keras>=3.5.0->tensorflow<2.19,>=2.18->tf-keras) (13.9.4)\n",
            "Requirement already satisfied: namex in /usr/local/lib/python3.11/dist-packages (from keras>=3.5.0->tensorflow<2.19,>=2.18->tf-keras) (0.0.8)\n",
            "Requirement already satisfied: optree in /usr/local/lib/python3.11/dist-packages (from keras>=3.5.0->tensorflow<2.19,>=2.18->tf-keras) (0.15.0)\n",
            "Requirement already satisfied: charset-normalizer<4,>=2 in /usr/local/lib/python3.11/dist-packages (from requests<3,>=2.21.0->tensorflow<2.19,>=2.18->tf-keras) (3.4.1)\n",
            "Requirement already satisfied: idna<4,>=2.5 in /usr/local/lib/python3.11/dist-packages (from requests<3,>=2.21.0->tensorflow<2.19,>=2.18->tf-keras) (3.10)\n",
            "Requirement already satisfied: urllib3<3,>=1.21.1 in /usr/local/lib/python3.11/dist-packages (from requests<3,>=2.21.0->tensorflow<2.19,>=2.18->tf-keras) (2.3.0)\n",
            "Requirement already satisfied: certifi>=2017.4.17 in /usr/local/lib/python3.11/dist-packages (from requests<3,>=2.21.0->tensorflow<2.19,>=2.18->tf-keras) (2025.1.31)\n",
            "Requirement already satisfied: markdown>=2.6.8 in /usr/local/lib/python3.11/dist-packages (from tensorboard<2.19,>=2.18->tensorflow<2.19,>=2.18->tf-keras) (3.8)\n",
            "Requirement already satisfied: tensorboard-data-server<0.8.0,>=0.7.0 in /usr/local/lib/python3.11/dist-packages (from tensorboard<2.19,>=2.18->tensorflow<2.19,>=2.18->tf-keras) (0.7.2)\n",
            "Requirement already satisfied: werkzeug>=1.0.1 in /usr/local/lib/python3.11/dist-packages (from tensorboard<2.19,>=2.18->tensorflow<2.19,>=2.18->tf-keras) (3.1.3)\n",
            "Requirement already satisfied: MarkupSafe>=2.1.1 in /usr/local/lib/python3.11/dist-packages (from werkzeug>=1.0.1->tensorboard<2.19,>=2.18->tensorflow<2.19,>=2.18->tf-keras) (3.0.2)\n",
            "Requirement already satisfied: markdown-it-py>=2.2.0 in /usr/local/lib/python3.11/dist-packages (from rich->keras>=3.5.0->tensorflow<2.19,>=2.18->tf-keras) (3.0.0)\n",
            "Requirement already satisfied: pygments<3.0.0,>=2.13.0 in /usr/local/lib/python3.11/dist-packages (from rich->keras>=3.5.0->tensorflow<2.19,>=2.18->tf-keras) (2.18.0)\n",
            "Requirement already satisfied: mdurl~=0.1 in /usr/local/lib/python3.11/dist-packages (from markdown-it-py>=2.2.0->rich->keras>=3.5.0->tensorflow<2.19,>=2.18->tf-keras) (0.1.2)\n"
          ]
        }
      ],
      "source": [
        "# install required dependencies\n",
        "%pip install kagglehub\n",
        "%pip install pandas\n",
        "%pip install nltk\n",
        "%pip install sklearn\n",
        "%pip install tensorflow\n",
        "%pip install matplotlib\n",
        "%pip install tf-keras"
      ]
    },
    {
      "cell_type": "code",
      "execution_count": null,
      "metadata": {
        "colab": {
          "base_uri": "https://localhost:8080/"
        },
        "id": "gQLHDLkJFLfg",
        "outputId": "a17a0641-0dd4-45d8-a0e4-10b389b76aec"
      },
      "outputs": [
        {
          "output_type": "stream",
          "name": "stderr",
          "text": [
            "[nltk_data] Downloading package stopwords to /root/nltk_data...\n",
            "[nltk_data]   Unzipping corpora/stopwords.zip.\n",
            "[nltk_data] Downloading package punkt_tab to /root/nltk_data...\n",
            "[nltk_data]   Unzipping tokenizers/punkt_tab.zip.\n",
            "[nltk_data] Downloading package wordnet to /root/nltk_data...\n"
          ]
        },
        {
          "output_type": "execute_result",
          "data": {
            "text/plain": [
              "True"
            ]
          },
          "metadata": {},
          "execution_count": 2
        }
      ],
      "source": [
        "# import all the required dependencies\n",
        "import kagglehub\n",
        "import random\n",
        "import numpy as np\n",
        "import pandas as pd\n",
        "import regex as re\n",
        "import nltk\n",
        "from nltk.corpus import stopwords, wordnet\n",
        "from nltk.stem import WordNetLemmatizer\n",
        "from nltk.tokenize import word_tokenize\n",
        "from multiprocessing import Pool, cpu_count\n",
        "\n",
        "nltk.download('stopwords')\n",
        "nltk.download('punkt_tab')\n",
        "nltk.download('wordnet')"
      ]
    },
    {
      "cell_type": "code",
      "execution_count": null,
      "metadata": {
        "colab": {
          "base_uri": "https://localhost:8080/"
        },
        "id": "fMwqXukyFLfg",
        "outputId": "daa64cb5-a8ac-46b8-cb7c-469c5a1e92ac"
      },
      "outputs": [
        {
          "output_type": "stream",
          "name": "stdout",
          "text": [
            "Warning: Looks like you're using an outdated `kagglehub` version (installed: 0.3.11), please consider upgrading to the latest version (0.3.12).\n",
            "Downloading from https://www.kaggle.com/api/v1/datasets/download/tboyle10/medicaltranscriptions?dataset_version_number=1...\n"
          ]
        },
        {
          "output_type": "stream",
          "name": "stderr",
          "text": [
            "100%|██████████| 4.85M/4.85M [00:00<00:00, 72.7MB/s]"
          ]
        },
        {
          "output_type": "stream",
          "name": "stdout",
          "text": [
            "Extracting files...\n",
            "Path to dataset files: /root/.cache/kagglehub/datasets/tboyle10/medicaltranscriptions/versions/1\n"
          ]
        },
        {
          "output_type": "stream",
          "name": "stderr",
          "text": [
            "\n"
          ]
        },
        {
          "output_type": "stream",
          "name": "stdout",
          "text": [
            "Head:  <bound method NDFrame.head of       Unnamed: 0                                        description  \\\n",
            "0              0   A 23-year-old white female presents with comp...   \n",
            "1              1           Consult for laparoscopic gastric bypass.   \n",
            "2              2           Consult for laparoscopic gastric bypass.   \n",
            "3              3                             2-D M-Mode. Doppler.     \n",
            "4              4                                 2-D Echocardiogram   \n",
            "...          ...                                                ...   \n",
            "4994        4994   Patient having severe sinusitis about two to ...   \n",
            "4995        4995   This is a 14-month-old baby boy Caucasian who...   \n",
            "4996        4996   A female for a complete physical and follow u...   \n",
            "4997        4997   Mother states he has been wheezing and coughing.   \n",
            "4998        4998   Acute allergic reaction, etiology uncertain, ...   \n",
            "\n",
            "                medical_specialty                                sample_name  \\\n",
            "0            Allergy / Immunology                         Allergic Rhinitis    \n",
            "1                      Bariatrics   Laparoscopic Gastric Bypass Consult - 2    \n",
            "2                      Bariatrics   Laparoscopic Gastric Bypass Consult - 1    \n",
            "3      Cardiovascular / Pulmonary                    2-D Echocardiogram - 1    \n",
            "4      Cardiovascular / Pulmonary                    2-D Echocardiogram - 2    \n",
            "...                           ...                                        ...   \n",
            "4994         Allergy / Immunology                         Chronic Sinusitis    \n",
            "4995         Allergy / Immunology      Kawasaki Disease - Discharge Summary    \n",
            "4996         Allergy / Immunology                        Followup on Asthma    \n",
            "4997         Allergy / Immunology                    Asthma in a 5-year-old    \n",
            "4998         Allergy / Immunology                Allergy Evaluation Consult    \n",
            "\n",
            "                                          transcription  \\\n",
            "0     SUBJECTIVE:,  This 23-year-old white female pr...   \n",
            "1     PAST MEDICAL HISTORY:, He has difficulty climb...   \n",
            "2     HISTORY OF PRESENT ILLNESS: , I have seen ABC ...   \n",
            "3     2-D M-MODE: , ,1.  Left atrial enlargement wit...   \n",
            "4     1.  The left ventricular cavity size and wall ...   \n",
            "...                                                 ...   \n",
            "4994  HISTORY:,  I had the pleasure of meeting and e...   \n",
            "4995  ADMITTING DIAGNOSIS: , Kawasaki disease.,DISCH...   \n",
            "4996  SUBJECTIVE: , This is a 42-year-old white fema...   \n",
            "4997  CHIEF COMPLAINT: , This 5-year-old male presen...   \n",
            "4998  HISTORY: , A 34-year-old male presents today s...   \n",
            "\n",
            "                                               keywords  \n",
            "0     allergy / immunology, allergic rhinitis, aller...  \n",
            "1     bariatrics, laparoscopic gastric bypass, weigh...  \n",
            "2     bariatrics, laparoscopic gastric bypass, heart...  \n",
            "3     cardiovascular / pulmonary, 2-d m-mode, dopple...  \n",
            "4     cardiovascular / pulmonary, 2-d, doppler, echo...  \n",
            "...                                                 ...  \n",
            "4994                                                NaN  \n",
            "4995  allergy / immunology, mucous membranes, conjun...  \n",
            "4996                                                NaN  \n",
            "4997                                                NaN  \n",
            "4998                                                NaN  \n",
            "\n",
            "[4999 rows x 6 columns]>\n"
          ]
        }
      ],
      "source": [
        "# Download dataset\n",
        "path = kagglehub.dataset_download(\"tboyle10/medicaltranscriptions\")\n",
        "print(\"Path to dataset files:\", path)\n",
        "\n",
        "dataset = pd.read_csv(path + \"/mtsamples.csv\")\n",
        "print(\"Head: \", dataset.head)"
      ]
    },
    {
      "cell_type": "markdown",
      "metadata": {
        "id": "ZgaYplIzFLfh"
      },
      "source": [
        "## Data processing\n",
        "\n",
        "- We drop every other column except transcription and medical_specialty.\n",
        "- We also drop any rows with empty or null transcription or medical_specialty.\n",
        "\n",
        "- Then we drop all the classes in the excluded specialties list below. We do this as these are general terms and don't specifically map to any specialty.\n",
        "- We then merge the classes with large overlaps - e.g. Neurosurgery and neurology, Neurosurgery is a subset of neurology."
      ]
    },
    {
      "cell_type": "code",
      "execution_count": null,
      "metadata": {
        "colab": {
          "base_uri": "https://localhost:8080/"
        },
        "id": "btKFXrJNFLfm",
        "outputId": "213af047-b45c-43fa-c7d1-f01a10089026"
      },
      "outputs": [
        {
          "output_type": "stream",
          "name": "stdout",
          "text": [
            "Category 0: Allergy / Immunology: 7\n",
            "Category 1: Autopsy: 8\n",
            "Category 2: Bariatrics: 18\n",
            "Category 3: Cardiovascular / Pulmonary: 371\n",
            "Category 4: Chiropractic: 14\n",
            "Category 5: Cosmetic / Plastic Surgery: 27\n",
            "Category 6: Dentistry: 27\n",
            "Category 7: Dermatology: 29\n",
            "Category 8: Diets and Nutritions: 10\n",
            "Category 9: ENT - Otolaryngology: 96\n",
            "Category 10: Endocrinology: 19\n",
            "Category 11: Gastroenterology: 224\n",
            "Category 12: Hematology - Oncology: 90\n",
            "Category 13: Hospice - Palliative Care: 6\n",
            "Category 14: IME-QME-Work Comp etc.: 16\n",
            "Category 15: Lab Medicine - Pathology: 8\n",
            "Category 16: Letters: 23\n",
            "Category 17: Neurology: 317\n",
            "Category 18: Obstetrics / Gynecology: 155\n",
            "Category 19: Ophthalmology: 83\n",
            "Category 20: Orthopedic: 355\n",
            "Category 21: Pediatrics - Neonatal: 70\n",
            "Category 22: Physical Medicine - Rehab: 21\n",
            "Category 23: Podiatry: 47\n",
            "Category 24: Psychiatry / Psychology: 53\n",
            "Category 25: Rheumatology: 10\n",
            "Category 26: Sleep Medicine: 20\n",
            "Category 27: Speech - Language: 9\n",
            "Category 28: Urology: 237\n"
          ]
        },
        {
          "output_type": "stream",
          "name": "stderr",
          "text": [
            "<ipython-input-4-1bf26fd46525>:13: SettingWithCopyWarning: \n",
            "A value is trying to be set on a copy of a slice from a DataFrame.\n",
            "Try using .loc[row_indexer,col_indexer] = value instead\n",
            "\n",
            "See the caveats in the documentation: https://pandas.pydata.org/pandas-docs/stable/user_guide/indexing.html#returning-a-view-versus-a-copy\n",
            "  dataset['medical_specialty'] = dataset['medical_specialty'].str.strip()\n"
          ]
        }
      ],
      "source": [
        "dataset.dropna(subset=['transcription', 'medical_specialty'], inplace=True)\n",
        "\n",
        "dataset = dataset[['transcription', 'medical_specialty']]\n",
        "\n",
        "specialty_counts = dataset['medical_specialty'].value_counts()\n",
        "\n",
        "dataset['medical_specialty'] = dataset['medical_specialty'].str.strip()\n",
        "\n",
        "excluded_specialties = [\n",
        "    'Surgery',\n",
        "    'SOAP / Chart / Progress Notes',\n",
        "    'Office Notes',\n",
        "    'Consult - History and Phy.',\n",
        "    'Emergency Room Reports',\n",
        "    'Discharge Summary',\n",
        "    'Pain Management',\n",
        "    'General Medicine',\n",
        "    'Radiology',\n",
        "]\n",
        "\n",
        "dataset = dataset[~dataset['medical_specialty'].isin(excluded_specialties)]\n",
        "\n",
        "category_mapping = {\n",
        "    'Neurosurgery': 'Neurology',\n",
        "    'Nephrology': 'Urology',\n",
        "}\n",
        "\n",
        "dataset['medical_specialty'] = dataset['medical_specialty'].replace(category_mapping)\n",
        "\n",
        "for i, (category_name, category) in enumerate(dataset.groupby(\"medical_specialty\")):\n",
        "    print(f\"Category {i}: {category_name}: {len(category)}\")"
      ]
    },
    {
      "cell_type": "code",
      "execution_count": null,
      "metadata": {
        "id": "betz_EbrMBtQ"
      },
      "outputs": [],
      "source": [
        "# Helper: Get synonyms from WordNet\n",
        "def get_synonyms(word):\n",
        "    synonyms = set()\n",
        "    for syn in wordnet.synsets(word):\n",
        "        for lemma in syn.lemmas():\n",
        "            synonym = lemma.name().replace('_', ' ')\n",
        "            if synonym.lower() != word.lower():\n",
        "                synonyms.add(synonym)\n",
        "    return list(synonyms)\n",
        "\n",
        "# Synonym Replacement with random n\n",
        "def synonym_replacement(text, n=None):\n",
        "    words = word_tokenize(text)\n",
        "    new_words = words.copy()\n",
        "    eligible_words = list(set([word for word in words if word.isalpha()]))\n",
        "    random.shuffle(eligible_words)\n",
        "\n",
        "    if n is None:\n",
        "        n = random.randint(1, min(3, len(eligible_words)))\n",
        "\n",
        "    num_replaced = 0\n",
        "    for word in eligible_words:\n",
        "        synonyms = get_synonyms(word)\n",
        "        if synonyms:\n",
        "            synonym = random.choice(synonyms)\n",
        "            new_words = [synonym if w == word else w for w in new_words]\n",
        "            num_replaced += 1\n",
        "        if num_replaced >= n:\n",
        "            break\n",
        "    return ' '.join(new_words)\n",
        "\n",
        "# Word Dropout\n",
        "def word_dropout(text, dropout_prob=0.1):\n",
        "    words = word_tokenize(text)\n",
        "    new_words = [word for word in words if random.random() > dropout_prob]\n",
        "    return ' '.join(new_words) if new_words else text\n",
        "\n",
        "# Random Swap\n",
        "def random_swap(text, n=1):\n",
        "    words = word_tokenize(text)\n",
        "    if len(words) < 2:\n",
        "        return text\n",
        "    for _ in range(n):\n",
        "        idx1, idx2 = random.sample(range(len(words)), 2)\n",
        "        words[idx1], words[idx2] = words[idx2], words[idx1]\n",
        "    return ' '.join(words)\n",
        "\n",
        "# Apply 1–2 random augmentations\n",
        "def augment_text_randomly(text):\n",
        "    aug_functions = [\n",
        "        synonym_replacement,\n",
        "        word_dropout,\n",
        "        random_swap\n",
        "    ]\n",
        "    num_augs = random.randint(1, 2)\n",
        "    selected_augs = random.sample(aug_functions, num_augs)\n",
        "    for aug in selected_augs:\n",
        "        text = aug(text)\n",
        "    return text\n",
        "\n",
        "# Parallel augmentation per class\n",
        "def augment_class(label_samples_tuple):\n",
        "    label, samples_needed, class_samples = label_samples_tuple\n",
        "    samples = class_samples.sample(n=samples_needed, replace=True)\n",
        "    texts = samples['transcription'].tolist()\n",
        "\n",
        "    with Pool(cpu_count()) as p:\n",
        "        augmented_texts = p.map(augment_text_randomly, texts)\n",
        "\n",
        "    return pd.DataFrame({\n",
        "        'transcription': augmented_texts,\n",
        "        'medical_specialty': label\n",
        "    })\n",
        "\n",
        "specialty_counts = dataset['medical_specialty'].value_counts()\n",
        "max_count = specialty_counts.max()\n",
        "\n",
        "tasks = []\n",
        "for label, count in specialty_counts.items():\n",
        "    if count < max_count:\n",
        "        samples_needed = max_count - count\n",
        "        class_samples = dataset[dataset['medical_specialty'] == label]\n",
        "        tasks.append((label, samples_needed, class_samples))\n",
        "\n",
        "augmented_dfs = [augment_class(task) for task in tasks]\n",
        "\n",
        "augmented_df = pd.concat(augmented_dfs, ignore_index=True)\n",
        "dataset = pd.concat([dataset, augmented_df], ignore_index=True)\n"
      ]
    },
    {
      "cell_type": "markdown",
      "metadata": {
        "id": "FvAv-4CwFLfm"
      },
      "source": [
        "## Data processing\n",
        "\n",
        "- We clean the text and then tokenize it and then lemmatize all the words in it."
      ]
    },
    {
      "cell_type": "code",
      "execution_count": null,
      "metadata": {
        "id": "HkR5m-76FLfm"
      },
      "outputs": [],
      "source": [
        "from sklearn.model_selection import train_test_split\n",
        "\n",
        "lemmatizer = None\n",
        "stop_words = None\n",
        "\n",
        "def init_worker():\n",
        "    global lemmatizer, stop_words\n",
        "    lemmatizer = WordNetLemmatizer()\n",
        "    stop_words = set(stopwords.words('english'))\n",
        "\n",
        "def clean_text(text):\n",
        "    text = text.strip().lower()\n",
        "    text = re.sub(r'[^a-zA-Z0-9\\s]', '', text)\n",
        "    tokens = word_tokenize(text)\n",
        "    tokens = [lemmatizer.lemmatize(word) for word in tokens if word not in stop_words]\n",
        "    return \" \".join(tokens)\n",
        "\n",
        "def apply_multiprocessing(series, func, workers=None):\n",
        "    with Pool(processes=workers or cpu_count(), initializer=init_worker) as pool:\n",
        "        results = pool.map(func, series)\n",
        "    return results\n",
        "\n",
        "dataset['processed_transcription'] = apply_multiprocessing(dataset['transcription'], clean_text)\n",
        "\n",
        "X_train, X_test, y_train, y_test = train_test_split(\n",
        "    dataset['processed_transcription'], dataset['medical_specialty'], test_size=0.2, random_state=42, stratify=dataset['medical_specialty']\n",
        ")"
      ]
    },
    {
      "cell_type": "markdown",
      "source": [
        "LSTM"
      ],
      "metadata": {
        "id": "3zr_-z3DALva"
      }
    },
    {
      "cell_type": "code",
      "source": [
        "from tensorflow.keras.models import Sequential\n",
        "from tensorflow.keras.layers import Embedding, LSTM, Dense, Dropout, GlobalMaxPooling1D, LayerNormalization\n",
        "from tensorflow.keras.optimizers import Adam\n",
        "from tensorflow.keras.preprocessing.sequence import pad_sequences\n",
        "from sklearn.preprocessing import LabelEncoder\n",
        "import numpy as np\n",
        "import tensorflow as tf\n",
        "from tensorflow.keras.preprocessing.text import Tokenizer\n",
        "\n",
        "max_words = 50000\n",
        "max_len = 2000\n",
        "\n",
        "tokenizer = Tokenizer(num_words=max_words)\n",
        "tokenizer.fit_on_texts(X_train)\n",
        "X_train_seq = tokenizer.texts_to_sequences(X_train)\n",
        "X_test_seq = tokenizer.texts_to_sequences(X_test)\n",
        "\n",
        "X_train_pad = pad_sequences(X_train_seq, maxlen=max_len)\n",
        "X_test_pad = pad_sequences(X_test_seq, maxlen=max_len)\n",
        "\n",
        "label_encoder = LabelEncoder()\n",
        "y_train_enc = label_encoder.fit_transform(y_train)\n",
        "y_test_enc = label_encoder.transform(y_test)\n",
        "\n",
        "y_train_cat = tf.keras.utils.to_categorical(y_train_enc)\n",
        "y_test_cat = tf.keras.utils.to_categorical(y_test_enc)\n",
        "\n",
        "model = Sequential()\n",
        "model.add(Embedding(input_dim=max_words, output_dim=128, input_length=max_len))\n",
        "model.add(LSTM(64, return_sequences=True, dropout=0.3))\n",
        "model.add(GlobalMaxPooling1D())\n",
        "model.add(Dropout(0.4))\n",
        "model.add(Dense(64, activation='relu'))\n",
        "model.add(Dropout(0.4))\n",
        "model.add(Dense(y_train_cat.shape[1], activation='softmax'))\n",
        "\n",
        "model.compile(loss='categorical_crossentropy', optimizer='adam', metrics=['accuracy'])\n",
        "\n",
        "history = model.fit(X_train_pad, y_train_cat, epochs=10, batch_size=32, validation_split=0.2, verbose=1)\n",
        "\n",
        "y_pred_probs = model.predict(X_test_pad)\n",
        "y_pred = np.argmax(y_pred_probs, axis=1)\n",
        "\n",
        "print(\"Classification Report:\")\n",
        "from sklearn.metrics import classification_report\n",
        "print(classification_report(y_test_enc, y_pred, digits=4))"
      ],
      "metadata": {
        "colab": {
          "base_uri": "https://localhost:8080/"
        },
        "id": "NQGCyt1PALct",
        "outputId": "8abaac17-a13f-4259-c0a1-b084adbbbb3d"
      },
      "execution_count": null,
      "outputs": [
        {
          "output_type": "stream",
          "name": "stdout",
          "text": [
            "Epoch 1/10\n"
          ]
        },
        {
          "output_type": "stream",
          "name": "stderr",
          "text": [
            "/usr/local/lib/python3.11/dist-packages/keras/src/layers/core/embedding.py:90: UserWarning: Argument `input_length` is deprecated. Just remove it.\n",
            "  warnings.warn(\n"
          ]
        },
        {
          "output_type": "stream",
          "name": "stdout",
          "text": [
            "\u001b[1m216/216\u001b[0m \u001b[32m━━━━━━━━━━━━━━━━━━━━\u001b[0m\u001b[37m\u001b[0m \u001b[1m18s\u001b[0m 71ms/step - accuracy: 0.0624 - loss: 3.3158 - val_accuracy: 0.4384 - val_loss: 2.2760\n",
            "Epoch 2/10\n",
            "\u001b[1m216/216\u001b[0m \u001b[32m━━━━━━━━━━━━━━━━━━━━\u001b[0m\u001b[37m\u001b[0m \u001b[1m15s\u001b[0m 70ms/step - accuracy: 0.4104 - loss: 2.0674 - val_accuracy: 0.7416 - val_loss: 1.0599\n",
            "Epoch 3/10\n",
            "\u001b[1m216/216\u001b[0m \u001b[32m━━━━━━━━━━━━━━━━━━━━\u001b[0m\u001b[37m\u001b[0m \u001b[1m21s\u001b[0m 74ms/step - accuracy: 0.6441 - loss: 1.2032 - val_accuracy: 0.8269 - val_loss: 0.7208\n",
            "Epoch 4/10\n",
            "\u001b[1m216/216\u001b[0m \u001b[32m━━━━━━━━━━━━━━━━━━━━\u001b[0m\u001b[37m\u001b[0m \u001b[1m19s\u001b[0m 69ms/step - accuracy: 0.7530 - loss: 0.8401 - val_accuracy: 0.8473 - val_loss: 0.5732\n",
            "Epoch 5/10\n",
            "\u001b[1m216/216\u001b[0m \u001b[32m━━━━━━━━━━━━━━━━━━━━\u001b[0m\u001b[37m\u001b[0m \u001b[1m16s\u001b[0m 74ms/step - accuracy: 0.8274 - loss: 0.6339 - val_accuracy: 0.8798 - val_loss: 0.4997\n",
            "Epoch 6/10\n",
            "\u001b[1m216/216\u001b[0m \u001b[32m━━━━━━━━━━━━━━━━━━━━\u001b[0m\u001b[37m\u001b[0m \u001b[1m19s\u001b[0m 68ms/step - accuracy: 0.8701 - loss: 0.5438 - val_accuracy: 0.8920 - val_loss: 0.4642\n",
            "Epoch 7/10\n",
            "\u001b[1m216/216\u001b[0m \u001b[32m━━━━━━━━━━━━━━━━━━━━\u001b[0m\u001b[37m\u001b[0m \u001b[1m21s\u001b[0m 69ms/step - accuracy: 0.8866 - loss: 0.4311 - val_accuracy: 0.8804 - val_loss: 0.4464\n",
            "Epoch 8/10\n",
            "\u001b[1m216/216\u001b[0m \u001b[32m━━━━━━━━━━━━━━━━━━━━\u001b[0m\u001b[37m\u001b[0m \u001b[1m22s\u001b[0m 76ms/step - accuracy: 0.8944 - loss: 0.4021 - val_accuracy: 0.8908 - val_loss: 0.4490\n",
            "Epoch 9/10\n",
            "\u001b[1m216/216\u001b[0m \u001b[32m━━━━━━━━━━━━━━━━━━━━\u001b[0m\u001b[37m\u001b[0m \u001b[1m19s\u001b[0m 70ms/step - accuracy: 0.8989 - loss: 0.3654 - val_accuracy: 0.8926 - val_loss: 0.4471\n",
            "Epoch 10/10\n",
            "\u001b[1m216/216\u001b[0m \u001b[32m━━━━━━━━━━━━━━━━━━━━\u001b[0m\u001b[37m\u001b[0m \u001b[1m22s\u001b[0m 75ms/step - accuracy: 0.9069 - loss: 0.3334 - val_accuracy: 0.8914 - val_loss: 0.4704\n",
            "\u001b[1m68/68\u001b[0m \u001b[32m━━━━━━━━━━━━━━━━━━━━\u001b[0m\u001b[37m\u001b[0m \u001b[1m3s\u001b[0m 35ms/step\n",
            "Classification Report:\n",
            "              precision    recall  f1-score   support\n",
            "\n",
            "           0     0.9610    1.0000    0.9801        74\n",
            "           1     1.0000    1.0000    1.0000        74\n",
            "           2     0.8529    0.7838    0.8169        74\n",
            "           3     0.8529    0.7838    0.8169        74\n",
            "           4     0.7738    0.8784    0.8228        74\n",
            "           5     0.7200    0.9730    0.8276        74\n",
            "           6     1.0000    0.9200    0.9583        75\n",
            "           7     0.9589    0.9333    0.9459        75\n",
            "           8     1.0000    1.0000    1.0000        74\n",
            "           9     0.9275    0.8649    0.8951        74\n",
            "          10     0.9259    1.0000    0.9615        75\n",
            "          11     0.8548    0.7162    0.7794        74\n",
            "          12     0.8358    0.7568    0.7943        74\n",
            "          13     1.0000    1.0000    1.0000        74\n",
            "          14     0.7778    0.8400    0.8077        75\n",
            "          15     0.9867    1.0000    0.9933        74\n",
            "          16     0.8125    0.8784    0.8442        74\n",
            "          17     0.6557    0.5405    0.5926        74\n",
            "          18     0.9296    0.8919    0.9103        74\n",
            "          19     0.9420    0.8667    0.9028        75\n",
            "          20     0.6000    0.4800    0.5333        75\n",
            "          21     0.8310    0.7973    0.8138        74\n",
            "          22     0.9367    1.0000    0.9673        74\n",
            "          23     0.8571    0.9730    0.9114        74\n",
            "          24     0.9467    0.9595    0.9530        74\n",
            "          25     0.9867    1.0000    0.9933        74\n",
            "          26     0.9487    1.0000    0.9737        74\n",
            "          27     0.9737    1.0000    0.9867        74\n",
            "          28     0.8052    0.8378    0.8212        74\n",
            "\n",
            "    accuracy                         0.8852      2152\n",
            "   macro avg     0.8846    0.8853    0.8829      2152\n",
            "weighted avg     0.8846    0.8852    0.8828      2152\n",
            "\n"
          ]
        }
      ]
    },
    {
      "cell_type": "code",
      "source": [
        "model.save('LSTM_Nice_model.h5')"
      ],
      "metadata": {
        "colab": {
          "base_uri": "https://localhost:8080/"
        },
        "id": "ER9kvbCFN4Ty",
        "outputId": "a2b3cc27-fe54-4248-aa4e-cc5794e818ce"
      },
      "execution_count": null,
      "outputs": [
        {
          "output_type": "stream",
          "name": "stderr",
          "text": [
            "WARNING:absl:You are saving your model as an HDF5 file via `model.save()` or `keras.saving.save_model(model)`. This file format is considered legacy. We recommend using instead the native Keras format, e.g. `model.save('my_model.keras')` or `keras.saving.save_model(model, 'my_model.keras')`. \n"
          ]
        }
      ]
    },
    {
      "cell_type": "code",
      "source": [
        "import pickle\n",
        "\n",
        "with open('tokenizer.pkl', 'wb') as f:\n",
        "    pickle.dump(tokenizer, f)\n",
        "\n",
        "with open('label_encoder.pkl', 'wb') as f:\n",
        "    pickle.dump(label_encoder, f)\n",
        "\n",
        "print(\"Tokenizer and LabelEncoder saved.\")\n"
      ],
      "metadata": {
        "colab": {
          "base_uri": "https://localhost:8080/"
        },
        "id": "PBdl8hkhduJp",
        "outputId": "33898890-2d92-495b-d860-b436934c3a7b"
      },
      "execution_count": null,
      "outputs": [
        {
          "output_type": "stream",
          "name": "stdout",
          "text": [
            "Tokenizer and LabelEncoder saved.\n"
          ]
        }
      ]
    }
  ],
  "metadata": {
    "colab": {
      "provenance": []
    },
    "kernelspec": {
      "display_name": "Python 3",
      "name": "python3"
    },
    "language_info": {
      "codemirror_mode": {
        "name": "ipython",
        "version": 3
      },
      "file_extension": ".py",
      "mimetype": "text/x-python",
      "name": "python",
      "nbconvert_exporter": "python",
      "pygments_lexer": "ipython3",
      "version": "3.9.6"
    }
  },
  "nbformat": 4,
  "nbformat_minor": 0
}
